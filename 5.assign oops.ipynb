{
 "cells": [
  {
   "cell_type": "code",
   "execution_count": 2,
   "id": "1a774455-9be0-4e96-a1d3-8624da06dda1",
   "metadata": {},
   "outputs": [
    {
     "data": {
      "text/plain": [
       "' Explain class and object with respect to object oriented programing \\nGive a sutable example'"
      ]
     },
     "execution_count": 2,
     "metadata": {},
     "output_type": "execute_result"
    }
   ],
   "source": [
    "                                                     # Name :- Rohit bhardwaj\n",
    "                                                     # Assignment no :- 5\n",
    "                                                     # Batch name :- Data science macter\n",
    "\n",
    "\n",
    "\n",
    "\n",
    "# Question no :- 1\n",
    "\n",
    "\"\"\" Explain class and object with respect to object oriented programing \n",
    "Give a sutable example\"\"\"\n",
    "\n"
   ]
  },
  {
   "cell_type": "code",
   "execution_count": null,
   "id": "661dafda-eae3-4cd4-83bb-d54324c659cc",
   "metadata": {},
   "outputs": [],
   "source": [
    "\"\"\" Ans:- A class is a blue print for declearing and creating object or A \n",
    "class is a classification of real world entity\n",
    "\n",
    "Object :- An object is a class instance that allow prograner to use variable\n",
    "and method from inside the class\n",
    "Example of class and object\n",
    "for example Super bike is a class then we can creat a object like bike1,bike2\n",
    "from class\n"
   ]
  },
  {
   "cell_type": "code",
   "execution_count": 9,
   "id": "ed60c685-6ba8-49e3-b8b8-3742d5ae248f",
   "metadata": {},
   "outputs": [],
   "source": []
  },
  {
   "cell_type": "code",
   "execution_count": 15,
   "id": "cc465860-a631-4980-85e8-343d49a43949",
   "metadata": {},
   "outputs": [],
   "source": [
    "\"\"\"Question no :- 2\n",
    "\n",
    " Name the four pillars of oops\n",
    "\n",
    " Ans:-  1> Inheritance, 2> Polymorphism  3> Encapsulation and 5> Abstraction\"\"\""
   ]
  },
  {
   "cell_type": "code",
   "execution_count": null,
   "id": "50977873-8ec0-428b-971d-5a12d44efec7",
   "metadata": {},
   "outputs": [],
   "source": []
  },
  {
   "cell_type": "code",
   "execution_count": null,
   "id": "203bc735-ed5c-4350-88c3-c9a412927231",
   "metadata": {},
   "outputs": [],
   "source": [
    "# Question no :- 3\n",
    "# Ans:-\n",
    "# the __init__() function is called every time of an object is created from a class"
   ]
  },
  {
   "cell_type": "code",
   "execution_count": 1,
   "id": "4cfcdb73-7dcb-4249-8282-2d34295a049a",
   "metadata": {},
   "outputs": [],
   "source": [
    "class pwskills():\n",
    "    \n",
    "    def __init__(self,country,state,city,village):\n",
    "        \n",
    "        self.country = country\n",
    "        self.state = state\n",
    "        self.city = city\n",
    "        self.village = village\n",
    "        \n",
    "    def return_student_address(self):\n",
    "        return self.country,self.state,self.city,self.village"
   ]
  },
  {
   "cell_type": "code",
   "execution_count": 2,
   "id": "dd2ec32d-35e0-49d6-8756-59299c9bdb1a",
   "metadata": {},
   "outputs": [],
   "source": [
    "rohit = pwskills(\"Bhaarat\",\"Bihar\",\"Patna\",\"Ganga_pur\")"
   ]
  },
  {
   "cell_type": "code",
   "execution_count": 4,
   "id": "2239178d-e3ae-4713-bb40-c37b2ccdd209",
   "metadata": {},
   "outputs": [
    {
     "data": {
      "text/plain": [
       "('Bhaarat', 'Bihar', 'Patna', 'Ganga_pur')"
      ]
     },
     "execution_count": 4,
     "metadata": {},
     "output_type": "execute_result"
    }
   ],
   "source": [
    "rohit.return_student_address()"
   ]
  },
  {
   "cell_type": "code",
   "execution_count": 5,
   "id": "663e5ed3-4fb3-4f9d-b02b-167d71d21e00",
   "metadata": {},
   "outputs": [
    {
     "data": {
      "text/plain": [
       "'Bhaarat'"
      ]
     },
     "execution_count": 5,
     "metadata": {},
     "output_type": "execute_result"
    }
   ],
   "source": [
    "rohit.country"
   ]
  },
  {
   "cell_type": "code",
   "execution_count": null,
   "id": "1b43df8f-0d17-4a9b-a45a-0db0c39f1b23",
   "metadata": {},
   "outputs": [],
   "source": [
    "# Question no :-4\n",
    "# Ans :-\n",
    "\"\"\"       The self is used to represent the instance of class.with thid \n",
    "        keyword you can access the artibute and method of class in python. \n",
    "        as you can call it by any other name \"\"\"\n",
    "       "
   ]
  },
  {
   "cell_type": "code",
   "execution_count": null,
   "id": "c3786641-3c53-49f9-a45c-d4225d77e01b",
   "metadata": {},
   "outputs": [],
   "source": []
  },
  {
   "cell_type": "code",
   "execution_count": null,
   "id": "47527234-990e-4a3f-9b82-489dbd2a1316",
   "metadata": {},
   "outputs": [],
   "source": [
    "# Question no :- 5\n",
    "# Ans :- \n",
    "\"\"\"     Inheritance allows us to define a class that inherit all the method \n",
    "        and property from another class\n",
    "        \n",
    "        There are five type of inheritance\n",
    "        1> single inheritance\n",
    "        2> Multiple inheritance\n",
    "        3> Multilevel lnheritance\n",
    "        4> Hierarchical inheritance\n",
    "        5> Hybrid inheritance"
   ]
  },
  {
   "cell_type": "code",
   "execution_count": 1,
   "id": "854c53b1-227b-47cd-8fd2-bcdb5d80c92f",
   "metadata": {},
   "outputs": [],
   "source": [
    "# single inheritance\n",
    "\n",
    "class parent_class:\n",
    "    \n",
    "    def test_parrent(self):\n",
    "        return \"this is the class of parent class\""
   ]
  },
  {
   "cell_type": "code",
   "execution_count": 5,
   "id": "77d65bfb-b3f9-405a-97a2-77cdbee34229",
   "metadata": {},
   "outputs": [],
   "source": [
    "class child_class(parent_class):\n",
    "    pass"
   ]
  },
  {
   "cell_type": "code",
   "execution_count": 6,
   "id": "bd094882-c1fa-48cf-898e-908faf126fff",
   "metadata": {},
   "outputs": [],
   "source": [
    "obj_child_class = child_class()"
   ]
  },
  {
   "cell_type": "code",
   "execution_count": 7,
   "id": "77da3f8c-b7aa-43cf-8abb-fa1e06aa3546",
   "metadata": {},
   "outputs": [
    {
     "data": {
      "text/plain": [
       "'this is the class of parent class'"
      ]
     },
     "execution_count": 7,
     "metadata": {},
     "output_type": "execute_result"
    }
   ],
   "source": [
    "obj_child_class.test_parrent()"
   ]
  },
  {
   "cell_type": "code",
   "execution_count": 9,
   "id": "7ec4da28-b884-452b-9ac7-996e07a2d7c4",
   "metadata": {},
   "outputs": [],
   "source": [
    "# multilevel inheritance\n",
    "\n",
    "class class1:\n",
    "    def test_class1(self):\n",
    "        return \"this is the class1\""
   ]
  },
  {
   "cell_type": "code",
   "execution_count": 11,
   "id": "4c3d7c2f-b9dc-4b1f-b971-5f628c7ad94d",
   "metadata": {},
   "outputs": [],
   "source": [
    "class class2(class1):\n",
    "    def test_class2(self):\n",
    "        return \"this is the class 2\""
   ]
  },
  {
   "cell_type": "code",
   "execution_count": 12,
   "id": "c32871b2-ef2e-4f72-bf13-a04918e819eb",
   "metadata": {},
   "outputs": [],
   "source": [
    "class class3(class2):\n",
    "    pass"
   ]
  },
  {
   "cell_type": "code",
   "execution_count": 13,
   "id": "dc489ed5-f9b4-40fe-a62a-7301cf4e3b2c",
   "metadata": {},
   "outputs": [],
   "source": [
    "obj_class3 = class3()"
   ]
  },
  {
   "cell_type": "code",
   "execution_count": 14,
   "id": "3ef76ec4-d956-48ec-a480-f50bdadf9ce5",
   "metadata": {},
   "outputs": [
    {
     "data": {
      "text/plain": [
       "'this is the class1'"
      ]
     },
     "execution_count": 14,
     "metadata": {},
     "output_type": "execute_result"
    }
   ],
   "source": [
    "obj_class3.test_class1()"
   ]
  },
  {
   "cell_type": "code",
   "execution_count": 15,
   "id": "5956cf6c-19df-4095-a23a-92304caafcce",
   "metadata": {},
   "outputs": [
    {
     "data": {
      "text/plain": [
       "'this is the class 2'"
      ]
     },
     "execution_count": 15,
     "metadata": {},
     "output_type": "execute_result"
    }
   ],
   "source": [
    "obj_class3.test_class2()"
   ]
  },
  {
   "cell_type": "code",
   "execution_count": 21,
   "id": "5706f182-a5d8-4c42-8e74-7243d33c0d73",
   "metadata": {},
   "outputs": [],
   "source": [
    "# multiple inheritance\n",
    "\n",
    "class parent_class1:\n",
    "    def test_class1(self):\n",
    "        return \"this is the parrent class1\""
   ]
  },
  {
   "cell_type": "code",
   "execution_count": 22,
   "id": "e569eeef-bb62-42f5-b37f-01caf47b91cc",
   "metadata": {},
   "outputs": [],
   "source": [
    "class parent_class2:\n",
    "    def test_class2(self):\n",
    "        return \"this is the parent class 2\""
   ]
  },
  {
   "cell_type": "code",
   "execution_count": 23,
   "id": "93ec0a38-bd53-4e7b-94e7-8fb309c0678e",
   "metadata": {},
   "outputs": [],
   "source": [
    "class child_class(parent_class1,parent_class2):\n",
    "    pass"
   ]
  },
  {
   "cell_type": "code",
   "execution_count": 24,
   "id": "ca15490c-46dc-490d-bebc-1f7d93a22a43",
   "metadata": {},
   "outputs": [],
   "source": [
    "obj_child_class = child_class()"
   ]
  },
  {
   "cell_type": "code",
   "execution_count": 25,
   "id": "4cc76ced-7be6-42ff-89fb-6525284f1cef",
   "metadata": {},
   "outputs": [
    {
     "data": {
      "text/plain": [
       "'this is the parrent class1'"
      ]
     },
     "execution_count": 25,
     "metadata": {},
     "output_type": "execute_result"
    }
   ],
   "source": [
    "obj_child_class.test_class1()"
   ]
  },
  {
   "cell_type": "code",
   "execution_count": 26,
   "id": "9a6fc43d-185d-4fa2-9ae2-af0fc5821c05",
   "metadata": {},
   "outputs": [
    {
     "data": {
      "text/plain": [
       "'this is the parent class 2'"
      ]
     },
     "execution_count": 26,
     "metadata": {},
     "output_type": "execute_result"
    }
   ],
   "source": [
    "obj_child_class.test_class2()"
   ]
  },
  {
   "cell_type": "code",
   "execution_count": 27,
   "id": "79dc2bcd-dfb7-4dad-b8dd-e4bb991f96ca",
   "metadata": {},
   "outputs": [],
   "source": [
    "# hierarchical inheritance\n",
    "\n",
    "# base class\n",
    "class parent:\n",
    "    def fun1(self):\n",
    "        print(\"this function is parent class\")"
   ]
  },
  {
   "cell_type": "code",
   "execution_count": 28,
   "id": "30703800-06a0-4a78-ac7b-039a1e5d5f02",
   "metadata": {},
   "outputs": [],
   "source": [
    "# derive class\n",
    "\n",
    "class child1(parent):\n",
    "    def fun2(self):\n",
    "        print(\"this function is child class\")"
   ]
  },
  {
   "cell_type": "code",
   "execution_count": 30,
   "id": "dcfb1a0f-c9d6-4cef-ac9e-18d21bc02aa8",
   "metadata": {},
   "outputs": [],
   "source": [
    "class child2(parent):\n",
    "    def fun3(self):\n",
    "        print(\"this function is child2\")"
   ]
  },
  {
   "cell_type": "code",
   "execution_count": 31,
   "id": "c81713d7-c4f0-4d02-8810-118ced80a787",
   "metadata": {},
   "outputs": [],
   "source": [
    "object1 = child1()\n",
    "object2 = child2()"
   ]
  },
  {
   "cell_type": "code",
   "execution_count": 32,
   "id": "ff6a8cbc-22c0-49f0-b995-a25a7918ee4f",
   "metadata": {},
   "outputs": [
    {
     "name": "stdout",
     "output_type": "stream",
     "text": [
      "this function is parent class\n"
     ]
    }
   ],
   "source": [
    "object1.fun1()"
   ]
  },
  {
   "cell_type": "code",
   "execution_count": 33,
   "id": "0927b6e8-d706-4fac-b787-d99d1f4dcc77",
   "metadata": {},
   "outputs": [
    {
     "name": "stdout",
     "output_type": "stream",
     "text": [
      "this function is child2\n"
     ]
    }
   ],
   "source": [
    "object2.fun3()"
   ]
  },
  {
   "cell_type": "code",
   "execution_count": 34,
   "id": "c52939e0-81bd-4d67-80e1-9a8715fd247f",
   "metadata": {},
   "outputs": [
    {
     "name": "stdout",
     "output_type": "stream",
     "text": [
      "this function is child class\n"
     ]
    }
   ],
   "source": [
    "object1.fun2()"
   ]
  },
  {
   "cell_type": "code",
   "execution_count": 35,
   "id": "a3ac50b3-180c-46fd-a9d2-977f889ce278",
   "metadata": {},
   "outputs": [
    {
     "name": "stdout",
     "output_type": "stream",
     "text": [
      "this function is child2\n"
     ]
    }
   ],
   "source": [
    "object2.fun3()"
   ]
  },
  {
   "cell_type": "code",
   "execution_count": 41,
   "id": "e0c7015e-7376-4890-81d9-0ea09d3c1c84",
   "metadata": {},
   "outputs": [],
   "source": [
    "# hybrid class\n",
    "\n",
    "class school:\n",
    "    def func1(self):\n",
    "        print(\"this function is in school class\")\n",
    "        \n",
    "class student1(school):\n",
    "    def func2(self):\n",
    "        print(\"this function is in student 1\")\n",
    "class student2(school):\n",
    "    def func3(self):\n",
    "        print(\"this function is in student 2\")\n",
    "class student3(student1,student2):\n",
    "    pass"
   ]
  },
  {
   "cell_type": "code",
   "execution_count": 42,
   "id": "a96214f6-27ed-4a95-ab55-37d7efd0bf92",
   "metadata": {},
   "outputs": [],
   "source": [
    "object = student3()"
   ]
  },
  {
   "cell_type": "code",
   "execution_count": 43,
   "id": "19e819f1-faf4-41c0-9dfa-e17d65d90922",
   "metadata": {},
   "outputs": [
    {
     "name": "stdout",
     "output_type": "stream",
     "text": [
      "this function is in school class\n"
     ]
    }
   ],
   "source": [
    "object.func1()"
   ]
  },
  {
   "cell_type": "code",
   "execution_count": 44,
   "id": "37f0fba2-5eda-4573-b1e2-c6e5d97157a2",
   "metadata": {},
   "outputs": [
    {
     "name": "stdout",
     "output_type": "stream",
     "text": [
      "this function is in student 1\n"
     ]
    }
   ],
   "source": [
    "object.func2()"
   ]
  },
  {
   "cell_type": "code",
   "execution_count": 45,
   "id": "a0341b38-f517-48ac-a24e-aee3a0d0ee51",
   "metadata": {},
   "outputs": [
    {
     "name": "stdout",
     "output_type": "stream",
     "text": [
      "this function is in student 2\n"
     ]
    }
   ],
   "source": [
    "object.func3()"
   ]
  },
  {
   "cell_type": "code",
   "execution_count": null,
   "id": "4778921b-30a3-4840-8835-c2b51b8991da",
   "metadata": {},
   "outputs": [],
   "source": []
  }
 ],
 "metadata": {
  "kernelspec": {
   "display_name": "Python 3 (ipykernel)",
   "language": "python",
   "name": "python3"
  },
  "language_info": {
   "codemirror_mode": {
    "name": "ipython",
    "version": 3
   },
   "file_extension": ".py",
   "mimetype": "text/x-python",
   "name": "python",
   "nbconvert_exporter": "python",
   "pygments_lexer": "ipython3",
   "version": "3.10.8"
  }
 },
 "nbformat": 4,
 "nbformat_minor": 5
}
